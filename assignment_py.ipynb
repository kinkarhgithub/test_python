{
  "nbformat": 4,
  "nbformat_minor": 0,
  "metadata": {
    "colab": {
      "name": "assignment.py",
      "provenance": [],
      "authorship_tag": "ABX9TyOH7txb+tMv95tbfdOa+Wfj",
      "include_colab_link": true
    },
    "kernelspec": {
      "name": "python3",
      "display_name": "Python 3"
    },
    "language_info": {
      "name": "python"
    }
  },
  "cells": [
    {
      "cell_type": "markdown",
      "metadata": {
        "id": "view-in-github",
        "colab_type": "text"
      },
      "source": [
        "<a href=\"https://colab.research.google.com/github/kinkarhgithub/test_python/blob/main/assignment_py.ipynb\" target=\"_parent\"><img src=\"https://colab.research.google.com/assets/colab-badge.svg\" alt=\"Open In Colab\"/></a>"
      ]
    },
    {
      "cell_type": "code",
      "execution_count": null,
      "metadata": {
        "colab": {
          "base_uri": "https://localhost:8080/"
        },
        "id": "zceI19t22lsb",
        "outputId": "bad7939a-7b75-4ac8-94d9-dccffeeeaca6"
      },
      "outputs": [
        {
          "output_type": "stream",
          "name": "stdout",
          "text": [
            "M\n",
            "Mah\n",
            "aha\n",
            "htr\n",
            "aha\n",
            "aa\n",
            "JhIGo\n",
            "JnGd\n"
          ]
        }
      ],
      "source": [
        "#Assignment 1\n",
        "name = \"Maharashtra\"\n",
        "print (name[0])\n",
        "print (name[0:3])\n",
        "print (name[1:4])\n",
        "print (name[-4:-1])\n",
        "#slicing with skip value\n",
        "name = \"Maharashtra\"\n",
        "d = name[1:4:1]\n",
        "print (d)\n",
        "d = name[1:4:2]\n",
        "print (d)\n",
        "#ex 2\n",
        "name = \"JohnIsGood\" #1st print then skip 3rd print then skip...\n",
        "d = name[0::2]\n",
        "print (d)\n",
        "d = name[0::3]  # 1st print next two skip 4th print next two skip....\n",
        "print (d)"
      ]
    },
    {
      "cell_type": "code",
      "source": [],
      "metadata": {
        "id": "dsMTBeQ93Gex"
      },
      "execution_count": null,
      "outputs": []
    },
    {
      "cell_type": "code",
      "source": [
        "mylist=[\"raya\",1,False,287522.458]  #assignment 2\n",
        "print(mylist)\n",
        "#update\n",
        "mylist[2]=True\n",
        "print (mylist)\n",
        "#Append\n",
        "mylist.insert(2,\"Welcome\")\n",
        "print(mylist)\n",
        "del mylist[0]\n",
        "print(mylist)\n",
        "mylist.remove(\"Welcome\")\n",
        "print(mylist)"
      ],
      "metadata": {
        "colab": {
          "base_uri": "https://localhost:8080/"
        },
        "id": "wjBuqgUf3GiK",
        "outputId": "0fc38f1b-3955-4368-971d-8458cc4f4375"
      },
      "execution_count": null,
      "outputs": [
        {
          "output_type": "stream",
          "name": "stdout",
          "text": [
            "['raya', 1, False, 287522.458]\n",
            "['raya', 1, True, 287522.458]\n",
            "['raya', 1, 'Welcome', True, 287522.458]\n",
            "[1, 'Welcome', True, 287522.458]\n",
            "[1, True, 287522.458]\n"
          ]
        }
      ]
    },
    {
      "cell_type": "code",
      "source": [
        "#tuple\n",
        "mytuple=([\"Seimens\",\"Bosch\",2455,\"Tata\"])\n",
        "print(len(mytuple))\n",
        "print(mytuple)\n",
        "del mytuple[0]\n",
        "print(mytuple)\n",
        "#update\n",
        "mytuple[0]=\"amazon\"\n",
        "print(mytuple)\n",
        "#insert\n",
        "mytuple.insert(1,\"delaplex\")\n",
        "print(mytuple)\n",
        "\n",
        "\n"
      ],
      "metadata": {
        "id": "YlnsN4ba53cC",
        "colab": {
          "base_uri": "https://localhost:8080/"
        },
        "outputId": "9724130b-9315-4a00-852a-da8857f48a11"
      },
      "execution_count": null,
      "outputs": [
        {
          "output_type": "stream",
          "name": "stdout",
          "text": [
            "4\n",
            "['Seimens', 'Bosch', 2455, 'Tata']\n",
            "['Bosch', 2455, 'Tata']\n",
            "['amazon', 2455, 'Tata']\n",
            "['amazon', 'delaplex', 2455, 'Tata']\n"
          ]
        }
      ]
    },
    {
      "cell_type": "code",
      "source": [
        "#Dictionary\n",
        "mydic={\"Brand\":[\"Seimens\",True],\"Branch\":\"German\",\"product\":\"aircraft\"}\n",
        "print(mydic)"
      ],
      "metadata": {
        "colab": {
          "base_uri": "https://localhost:8080/"
        },
        "id": "rf3dWMYf7pjj",
        "outputId": "b315c21d-41f2-4864-ec52-211b9d3d8837"
      },
      "execution_count": null,
      "outputs": [
        {
          "output_type": "stream",
          "name": "stdout",
          "text": [
            "{'Brand': ['Seimens', True], 'Branch': 'German', 'product': 'aircraft'}\n"
          ]
        }
      ]
    },
    {
      "cell_type": "code",
      "source": [
        "#assignment 3     ( arithmetic  operator)\n",
        "a=5 \n",
        "b=6\n",
        "print(\"The value of 5+6 is\",5+6)\n",
        "print(\"The value of 5-6 is\",5-6)\n",
        "print(\"The value of 5*6 is\",5*6)\n",
        "print(\"The value of 5/6 is\",5/6)\n",
        "print(\"The value of 5//6 is\",5//6)\n",
        "#assignment operator\n",
        "a=34\n",
        "a*=12\n",
        "a-=12\n",
        "a /=12\n",
        "print(a)\n",
        "#comparison operator\n",
        "set1={\"sdf\",\"dfg\",124,False,\"gh\"}\n",
        "set2={\"yui\",\"ert\",\"ert\",True}\n",
        "set3=(set2>set1)\n",
        "print(set3)\n",
        "#ex 2\n",
        "b=(4>7)\n",
        "print(b)\n",
        "b=(14>7)\n",
        "print(b)\n",
        "b=(14==7)\n",
        "b=(14!=7)\n",
        "print(b)\n",
        "b=(10>=6)\n",
        "b=(10<=6)\n",
        "print(b)\n",
        "#logical operator\n",
        "x=5\n",
        "y=10\n",
        "print(x>y and x<y)\n",
        "print(x<y and y>x)\n",
        "print(x>y or x<y)\n",
        "print(not(x<y and x<y))\n",
        "#shift operator\n",
        "a=10\n",
        "b=-10\n",
        "print(\"a>>1=\",a>>1)\n",
        "print(\"b>>1=\",b>>1)\n",
        "a=5\n",
        "b=-10\n",
        "print(\"a<<1=\",a<<1)\n",
        "print(\"b<<1=\",b<<1)\n",
        "  \n",
        "\n",
        "\n",
        "\n",
        "\n"
      ],
      "metadata": {
        "colab": {
          "base_uri": "https://localhost:8080/"
        },
        "id": "U49znT54LPY1",
        "outputId": "ef1d22e4-bce3-487a-cabd-3b1bbb49e27e"
      },
      "execution_count": null,
      "outputs": [
        {
          "output_type": "stream",
          "name": "stdout",
          "text": [
            "The value of 5+6 is 11\n",
            "The value of 5-6 is -1\n",
            "The value of 5*6 is 30\n",
            "The value of 5/6 is 0.8333333333333334\n",
            "The value of 5//6 is 0\n",
            "33.0\n",
            "False\n",
            "False\n",
            "True\n",
            "True\n",
            "False\n",
            "False\n",
            "True\n",
            "True\n",
            "False\n",
            "a>>1= 5\n",
            "b>>1= -5\n",
            "a<<1= 10\n",
            "b<<1= -20\n"
          ]
        }
      ]
    }
  ]
}